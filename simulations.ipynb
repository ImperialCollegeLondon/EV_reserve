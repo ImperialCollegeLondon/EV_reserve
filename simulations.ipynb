{
 "cells": [
  {
   "cell_type": "code",
   "execution_count": null,
   "metadata": {},
   "outputs": [],
   "source": [
    "import g_smpc as gsm\n",
    "import d_aggregate_bounds as dab\n",
    "import auxfunc_test_train_split as tts"
   ]
  },
  {
   "cell_type": "code",
   "execution_count": null,
   "metadata": {},
   "outputs": [],
   "source": [
    "#for EV fleet sizes of 0 - 800\n",
    "from c_random_seed import noEVtriallist\n",
    "df_b_list = [dab.aggfunction(i) for i in noEVtriallist]\n",
    "df_train_list = [tts.trainpick(df_b) for df_b in df_b_list]"
   ]
  },
  {
   "cell_type": "code",
   "execution_count": null,
   "metadata": {},
   "outputs": [],
   "source": [
    "df_train2_list = [df_train.copy(deep=True) for df_train in df_train_list]\n",
    "dfb_2_list = [df_b.copy(deep=True) for df_b in df_b_list]"
   ]
  },
  {
   "cell_type": "code",
   "execution_count": null,
   "metadata": {},
   "outputs": [],
   "source": [
    "solutionlist = []\n",
    "for i in range(40):\n",
    "    for i2 in [0,0.5,1]:\n",
    "        filename = \"results_\" + str((i+1)*20) + \"EVs_omega\" + str(i2)\n",
    "        solutionlist.append(gsm.run_conti_SMPC_nzb_AVg_wMILP_GUROB_noEVs(df_train2_list[i],dfb_2_list[i],[0.01,0.1,0.78,0.1,0.01],[0.01,0.1,0.78,0.1,0.01],12500,0.0519,i2,filename, nPR = 0.000308, dPR = 0.001414, nrpr = 0.2,LBUB_diff_thresh=30))"
   ]
  },
  {
   "cell_type": "code",
   "execution_count": null,
   "metadata": {},
   "outputs": [],
   "source": [
    "#for EV fleet sizes of 800 - 1000\n",
    "from c_random_seed import noEVtriallist8001000\n",
    "df_b_list81 = [dab.aggfunction(i) for i in noEVtriallist8001000]\n",
    "df_train_list81 = [tts.trainpick(df_b) for df_b in df_b_list81]"
   ]
  },
  {
   "cell_type": "code",
   "execution_count": null,
   "metadata": {},
   "outputs": [],
   "source": [
    "df_train2_list81 = [df_train.copy(deep=True) for df_train in df_train_list81]\n",
    "dfb_2_list81 = [df_b.copy(deep=True) for df_b in df_b_list81]"
   ]
  },
  {
   "cell_type": "code",
   "execution_count": null,
   "metadata": {},
   "outputs": [],
   "source": [
    "solutionlist2 = []\n",
    "for i in range(20):\n",
    "    for i2 in [0,0.5,1]:\n",
    "        filename = \"cv1_noEVs\" + str((i+41)*20) + \"omega\" + str(i2)\n",
    "        solutionlist.append(gsm.run_conti_SMPC_nzb_AVg_wMILP_GUROB_noEVs(df_train2_list81[i],dfb_2_list81[i],[0.01,0.1,0.78,0.1,0.01],[0.01,0.1,0.78,0.1,0.01],12500,0.0519,i2,filename, nPR = 0.000308, dPR = 0.001414, nrpr = 0.2,LBUB_diff_thresh=30))"
   ]
  }
 ],
 "metadata": {
  "language_info": {
   "name": "python"
  }
 },
 "nbformat": 4,
 "nbformat_minor": 2
}
